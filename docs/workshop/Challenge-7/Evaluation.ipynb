{
 "cells": [
  {
   "cell_type": "code",
   "execution_count": null,
   "id": "dc96688d",
   "metadata": {},
   "outputs": [],
   "source": [
    "# Simple Evaluation Notebook\n",
    "\n",
    "# Define a function to evaluate expressions\n",
    "def evaluate_expression(expression):\n",
    "    try:\n",
    "        result = eval(expression)\n",
    "        return f\"Result: {result}\"\n",
    "    except Exception as e:\n",
    "        return f\"Error: {str(e)}\"\n",
    "\n",
    "# Example usage\n",
    "expression = input(\"Enter a mathematical expression to evaluate: \")\n",
    "print(evaluate_expression(expression))"
   ]
  }
 ],
 "metadata": {
  "language_info": {
   "name": "python"
  }
 },
 "nbformat": 4,
 "nbformat_minor": 5
}
